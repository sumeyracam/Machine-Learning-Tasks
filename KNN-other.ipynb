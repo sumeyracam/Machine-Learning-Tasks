{
 "cells": [
  {
   "cell_type": "code",
   "execution_count": 18,
   "id": "8e832311-0cff-43b1-be56-84731649f7b7",
   "metadata": {},
   "outputs": [],
   "source": [
    "from sklearn import datasets\n",
    "from sklearn.model_selection import train_test_split\n",
    "from sklearn.neighbors import KNeighborsClassifier\n",
    "from sklearn.metrics import accuracy_score\n",
    "import numpy as np\n",
    "from sklearn import metrics\n",
    "import matplotlib.pyplot as plt"
   ]
  },
  {
   "cell_type": "code",
   "execution_count": 19,
   "id": "042a07d7-ab3d-417b-9ef3-bc755fd63d49",
   "metadata": {},
   "outputs": [
    {
     "name": "stdout",
     "output_type": "stream",
     "text": [
      "features names:  ['sepal length (cm)', 'sepal width (cm)', 'petal length (cm)', 'petal width (cm)']\n",
      "iris types names:  ['setosa' 'versicolor' 'virginica']\n"
     ]
    }
   ],
   "source": [
    "iris = datasets.load_iris()\n",
    "print(\"features names: \", iris.feature_names)\n",
    "print(\"iris types names: \", iris.target_names)\n"
   ]
  },
  {
   "cell_type": "code",
   "execution_count": 20,
   "id": "14528da8-fc04-457b-98e7-d79c540fb8b5",
   "metadata": {},
   "outputs": [],
   "source": [
    "# storing features and labels\n",
    "iris_X = iris.data\n",
    "iris_y = iris.target\n"
   ]
  },
  {
   "cell_type": "code",
   "execution_count": 21,
   "id": "5bc5117a-3958-4033-b843-0e6a28f7cc5b",
   "metadata": {},
   "outputs": [
    {
     "name": "stdout",
     "output_type": "stream",
     "text": [
      "shape of data:  (150, 4)\n"
     ]
    }
   ],
   "source": [
    "# printing number of samples\n",
    "print(\"shape of data: \", iris_X.shape)"
   ]
  },
  {
   "cell_type": "code",
   "execution_count": 22,
   "id": "369055ce-96fa-4c72-9107-056e55906eb5",
   "metadata": {},
   "outputs": [],
   "source": [
    "# spitting train set and test set\n",
    "X_train, X_test, y_train, y_test = train_test_split(\n",
    "    iris_X, iris_y, test_size=0.2, random_state=7)"
   ]
  },
  {
   "cell_type": "code",
   "execution_count": 23,
   "id": "e222fae7-f29b-47a0-9783-1a6e28499c87",
   "metadata": {},
   "outputs": [],
   "source": [
    "# finding optimum k for our algorithm\n",
    "k_range = range(1, 20)\n",
    "scores = dict()\n",
    "scores_list = list()"
   ]
  },
  {
   "cell_type": "code",
   "execution_count": 24,
   "id": "b9215f5e-c29e-421a-9672-7d78d9a38ee2",
   "metadata": {},
   "outputs": [],
   "source": [
    "for k in k_range:\n",
    "    knn = KNeighborsClassifier(n_neighbors=k)\n",
    "    knn.fit(X_train, y_train)\n",
    "    y_pred = knn.predict(X_test)\n",
    "    scores[k] = metrics.accuracy_score(y_test, y_pred)\n",
    "    scores_list.append(metrics.accuracy_score(y_test, y_pred))"
   ]
  },
  {
   "cell_type": "code",
   "execution_count": 25,
   "id": "309cec59-3a59-4a5a-947f-eed309bf3538",
   "metadata": {},
   "outputs": [
    {
     "data": {
      "text/plain": [
       "Text(0, 0.5, 'Accuracy')"
      ]
     },
     "execution_count": 25,
     "metadata": {},
     "output_type": "execute_result"
    },
    {
     "data": {
      "image/png": "[encoded data removed]",
      "text/plain": [
       "<Figure size 432x288 with 1 Axes>"
      ]
     },
     "metadata": {
      "needs_background": "light"
     },
     "output_type": "display_data"
    }
   ],
   "source": [
    "# plotting the result\n",
    "plt.plot(k_range, scores_list)\n",
    "plt.xlabel(\"Value of K\")\n",
    "plt.ylabel(\"Accuracy\")\n"
   ]
  },
  {
   "cell_type": "code",
   "execution_count": 27,
   "id": "1d42b837-21e7-407e-88be-6db13bba351c",
   "metadata": {},
   "outputs": [
    {
     "name": "stdout",
     "output_type": "stream",
     "text": [
      "virginica\n",
      "versicolor\n"
     ]
    }
   ],
   "source": [
    "# getting optimum k\n",
    "knn = KNeighborsClassifier(n_neighbors=np.argmax(scores_list))\n",
    "\n",
    "# fitting the whole dataset\n",
    "knn.fit(iris_X, iris_y)\n",
    "\n",
    "# names of iris types\n",
    "types = {i: iris.target_names[i] for i in range(len(iris.target_names))}\n",
    "\n",
    "# creating sample validation set\n",
    "X_val = [[7, 5, 7, 5], [4, 4, 3, 3]]\n",
    "y_val = knn .predict(X_val)\n",
    "\n",
    "for i in range(len(X_val)):\n",
    "    print(types[y_val[i]])\n",
    "\n",
    "plt.show()\n"
   ]
  },
  {
   "cell_type": "code",
   "execution_count": null,
   "id": "b44abe26-8f66-414f-a206-1d17ad9c6e69",
   "metadata": {},
   "outputs": [],
   "source": []
  }
 ],
 "metadata": {
  "kernelspec": {
   "display_name": "Python 3 (ipykernel)",
   "language": "python",
   "name": "python3"
  },
  "language_info": {
   "codemirror_mode": {
    "name": "ipython",
    "version": 3
   },
   "file_extension": ".py",
   "mimetype": "text/x-python",
   "name": "python",
   "nbconvert_exporter": "python",
   "pygments_lexer": "ipython3",
   "version": "3.10.4"
  }
 },
 "nbformat": 4,
 "nbformat_minor": 5
}
